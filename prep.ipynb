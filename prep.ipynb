{
 "cells": [
  {
   "cell_type": "code",
   "execution_count": 1,
   "id": "5fe37719-752a-4ddf-8320-980f383fa834",
   "metadata": {
    "scrolled": true
   },
   "outputs": [
    {
     "name": "stdout",
     "output_type": "stream",
     "text": [
      "Collecting jupyterlab-spellchecker\n",
      "  Downloading jupyterlab_spellchecker-0.8.4-py3-none-any.whl.metadata (9.2 kB)\n",
      "Requirement already satisfied: jupyter-server<3,>=2.0.1 in /usr/local/lib/python3.10/site-packages (from jupyterlab-spellchecker) (2.14.0)\n",
      "Requirement already satisfied: jupyterlab<5,>=4 in /usr/local/lib/python3.10/site-packages (from jupyterlab-spellchecker) (4.2.1)\n",
      "Requirement already satisfied: anyio>=3.1.0 in /usr/local/lib/python3.10/site-packages (from jupyter-server<3,>=2.0.1->jupyterlab-spellchecker) (4.8.0)\n",
      "Requirement already satisfied: argon2-cffi>=21.1 in /usr/local/lib/python3.10/site-packages (from jupyter-server<3,>=2.0.1->jupyterlab-spellchecker) (23.1.0)\n",
      "Requirement already satisfied: jinja2>=3.0.3 in /usr/local/lib/python3.10/site-packages (from jupyter-server<3,>=2.0.1->jupyterlab-spellchecker) (3.1.4)\n",
      "Requirement already satisfied: jupyter-client>=7.4.4 in /usr/local/lib/python3.10/site-packages (from jupyter-server<3,>=2.0.1->jupyterlab-spellchecker) (8.6.2)\n",
      "Requirement already satisfied: jupyter-core!=5.0.*,>=4.12 in /usr/local/lib/python3.10/site-packages (from jupyter-server<3,>=2.0.1->jupyterlab-spellchecker) (5.7.2)\n",
      "Requirement already satisfied: jupyter-events>=0.9.0 in /usr/local/lib/python3.10/site-packages (from jupyter-server<3,>=2.0.1->jupyterlab-spellchecker) (0.10.0)\n",
      "Requirement already satisfied: jupyter-server-terminals>=0.4.4 in /usr/local/lib/python3.10/site-packages (from jupyter-server<3,>=2.0.1->jupyterlab-spellchecker) (0.5.3)\n",
      "Requirement already satisfied: nbconvert>=6.4.4 in /usr/local/lib/python3.10/site-packages (from jupyter-server<3,>=2.0.1->jupyterlab-spellchecker) (7.16.4)\n",
      "Requirement already satisfied: nbformat>=5.3.0 in /usr/local/lib/python3.10/site-packages (from jupyter-server<3,>=2.0.1->jupyterlab-spellchecker) (5.10.4)\n",
      "Requirement already satisfied: overrides>=5.0 in /usr/local/lib/python3.10/site-packages (from jupyter-server<3,>=2.0.1->jupyterlab-spellchecker) (7.7.0)\n",
      "Requirement already satisfied: packaging>=22.0 in /usr/local/lib/python3.10/site-packages (from jupyter-server<3,>=2.0.1->jupyterlab-spellchecker) (23.2)\n",
      "Requirement already satisfied: prometheus-client>=0.9 in /usr/local/lib/python3.10/site-packages (from jupyter-server<3,>=2.0.1->jupyterlab-spellchecker) (0.20.0)\n",
      "Requirement already satisfied: pyzmq>=24 in /usr/local/lib/python3.10/site-packages (from jupyter-server<3,>=2.0.1->jupyterlab-spellchecker) (26.0.3)\n",
      "Requirement already satisfied: send2trash>=1.8.2 in /usr/local/lib/python3.10/site-packages (from jupyter-server<3,>=2.0.1->jupyterlab-spellchecker) (1.8.3)\n",
      "Requirement already satisfied: terminado>=0.8.3 in /usr/local/lib/python3.10/site-packages (from jupyter-server<3,>=2.0.1->jupyterlab-spellchecker) (0.18.1)\n",
      "Requirement already satisfied: tornado>=6.2.0 in /usr/local/lib/python3.10/site-packages (from jupyter-server<3,>=2.0.1->jupyterlab-spellchecker) (6.4)\n",
      "Requirement already satisfied: traitlets>=5.6.0 in /usr/local/lib/python3.10/site-packages (from jupyter-server<3,>=2.0.1->jupyterlab-spellchecker) (5.14.3)\n",
      "Requirement already satisfied: websocket-client>=1.7 in /usr/local/lib/python3.10/site-packages (from jupyter-server<3,>=2.0.1->jupyterlab-spellchecker) (1.8.0)\n",
      "Requirement already satisfied: async-lru>=1.0.0 in /usr/local/lib/python3.10/site-packages (from jupyterlab<5,>=4->jupyterlab-spellchecker) (2.0.4)\n",
      "Requirement already satisfied: httpx>=0.25.0 in /usr/local/lib/python3.10/site-packages (from jupyterlab<5,>=4->jupyterlab-spellchecker) (0.27.0)\n",
      "Requirement already satisfied: ipykernel>=6.5.0 in /usr/local/lib/python3.10/site-packages (from jupyterlab<5,>=4->jupyterlab-spellchecker) (6.29.4)\n",
      "Requirement already satisfied: jupyter-lsp>=2.0.0 in /usr/local/lib/python3.10/site-packages (from jupyterlab<5,>=4->jupyterlab-spellchecker) (2.2.5)\n",
      "Requirement already satisfied: jupyterlab-server<3,>=2.27.1 in /usr/local/lib/python3.10/site-packages (from jupyterlab<5,>=4->jupyterlab-spellchecker) (2.27.2)\n",
      "Requirement already satisfied: notebook-shim>=0.2 in /usr/local/lib/python3.10/site-packages (from jupyterlab<5,>=4->jupyterlab-spellchecker) (0.2.4)\n",
      "Requirement already satisfied: tomli>=1.2.2 in /usr/local/lib/python3.10/site-packages (from jupyterlab<5,>=4->jupyterlab-spellchecker) (2.0.1)\n",
      "Requirement already satisfied: exceptiongroup>=1.0.2 in /usr/local/lib/python3.10/site-packages (from anyio>=3.1.0->jupyter-server<3,>=2.0.1->jupyterlab-spellchecker) (1.2.0)\n",
      "Requirement already satisfied: idna>=2.8 in /usr/local/lib/python3.10/site-packages (from anyio>=3.1.0->jupyter-server<3,>=2.0.1->jupyterlab-spellchecker) (3.7)\n",
      "Requirement already satisfied: sniffio>=1.1 in /usr/local/lib/python3.10/site-packages (from anyio>=3.1.0->jupyter-server<3,>=2.0.1->jupyterlab-spellchecker) (1.3.1)\n",
      "Requirement already satisfied: typing_extensions>=4.5 in /usr/local/lib/python3.10/site-packages (from anyio>=3.1.0->jupyter-server<3,>=2.0.1->jupyterlab-spellchecker) (4.12.2)\n",
      "Requirement already satisfied: argon2-cffi-bindings in /usr/local/lib/python3.10/site-packages (from argon2-cffi>=21.1->jupyter-server<3,>=2.0.1->jupyterlab-spellchecker) (21.2.0)\n",
      "Requirement already satisfied: certifi in /usr/local/lib/python3.10/site-packages (from httpx>=0.25.0->jupyterlab<5,>=4->jupyterlab-spellchecker) (2024.2.2)\n",
      "Requirement already satisfied: httpcore==1.* in /usr/local/lib/python3.10/site-packages (from httpx>=0.25.0->jupyterlab<5,>=4->jupyterlab-spellchecker) (1.0.5)\n",
      "Requirement already satisfied: h11<0.15,>=0.13 in /usr/local/lib/python3.10/site-packages (from httpcore==1.*->httpx>=0.25.0->jupyterlab<5,>=4->jupyterlab-spellchecker) (0.14.0)\n",
      "Requirement already satisfied: appnope in /usr/local/lib/python3.10/site-packages (from ipykernel>=6.5.0->jupyterlab<5,>=4->jupyterlab-spellchecker) (0.1.4)\n",
      "Requirement already satisfied: comm>=0.1.1 in /usr/local/lib/python3.10/site-packages (from ipykernel>=6.5.0->jupyterlab<5,>=4->jupyterlab-spellchecker) (0.2.2)\n",
      "Requirement already satisfied: debugpy>=1.6.5 in /usr/local/lib/python3.10/site-packages (from ipykernel>=6.5.0->jupyterlab<5,>=4->jupyterlab-spellchecker) (1.8.1)\n",
      "Requirement already satisfied: ipython>=7.23.1 in /usr/local/lib/python3.10/site-packages (from ipykernel>=6.5.0->jupyterlab<5,>=4->jupyterlab-spellchecker) (8.24.0)\n",
      "Requirement already satisfied: matplotlib-inline>=0.1 in /usr/local/lib/python3.10/site-packages (from ipykernel>=6.5.0->jupyterlab<5,>=4->jupyterlab-spellchecker) (0.1.7)\n",
      "Requirement already satisfied: nest-asyncio in /usr/local/lib/python3.10/site-packages (from ipykernel>=6.5.0->jupyterlab<5,>=4->jupyterlab-spellchecker) (1.6.0)\n",
      "Requirement already satisfied: psutil in /usr/local/lib/python3.10/site-packages (from ipykernel>=6.5.0->jupyterlab<5,>=4->jupyterlab-spellchecker) (5.9.8)\n",
      "Requirement already satisfied: MarkupSafe>=2.0 in /usr/local/lib/python3.10/site-packages (from jinja2>=3.0.3->jupyter-server<3,>=2.0.1->jupyterlab-spellchecker) (2.1.5)\n",
      "Requirement already satisfied: python-dateutil>=2.8.2 in /usr/local/lib/python3.10/site-packages (from jupyter-client>=7.4.4->jupyter-server<3,>=2.0.1->jupyterlab-spellchecker) (2.9.0.post0)\n",
      "Requirement already satisfied: platformdirs>=2.5 in /usr/local/lib/python3.10/site-packages (from jupyter-core!=5.0.*,>=4.12->jupyter-server<3,>=2.0.1->jupyterlab-spellchecker) (4.2.2)\n",
      "Requirement already satisfied: jsonschema>=4.18.0 in /usr/local/lib/python3.10/site-packages (from jsonschema[format-nongpl]>=4.18.0->jupyter-events>=0.9.0->jupyter-server<3,>=2.0.1->jupyterlab-spellchecker) (4.22.0)\n",
      "Requirement already satisfied: python-json-logger>=2.0.4 in /usr/local/lib/python3.10/site-packages (from jupyter-events>=0.9.0->jupyter-server<3,>=2.0.1->jupyterlab-spellchecker) (2.0.7)\n",
      "Requirement already satisfied: pyyaml>=5.3 in /usr/local/lib/python3.10/site-packages (from jupyter-events>=0.9.0->jupyter-server<3,>=2.0.1->jupyterlab-spellchecker) (6.0.1)\n",
      "Requirement already satisfied: referencing in /usr/local/lib/python3.10/site-packages (from jupyter-events>=0.9.0->jupyter-server<3,>=2.0.1->jupyterlab-spellchecker) (0.35.1)\n",
      "Requirement already satisfied: rfc3339-validator in /usr/local/lib/python3.10/site-packages (from jupyter-events>=0.9.0->jupyter-server<3,>=2.0.1->jupyterlab-spellchecker) (0.1.4)\n",
      "Requirement already satisfied: rfc3986-validator>=0.1.1 in /usr/local/lib/python3.10/site-packages (from jupyter-events>=0.9.0->jupyter-server<3,>=2.0.1->jupyterlab-spellchecker) (0.1.1)\n",
      "Requirement already satisfied: babel>=2.10 in /usr/local/lib/python3.10/site-packages (from jupyterlab-server<3,>=2.27.1->jupyterlab<5,>=4->jupyterlab-spellchecker) (2.15.0)\n",
      "Requirement already satisfied: json5>=0.9.0 in /usr/local/lib/python3.10/site-packages (from jupyterlab-server<3,>=2.27.1->jupyterlab<5,>=4->jupyterlab-spellchecker) (0.9.25)\n",
      "Requirement already satisfied: requests>=2.31 in /usr/local/lib/python3.10/site-packages (from jupyterlab-server<3,>=2.27.1->jupyterlab<5,>=4->jupyterlab-spellchecker) (2.32.2)\n",
      "Requirement already satisfied: beautifulsoup4 in /usr/local/lib/python3.10/site-packages (from nbconvert>=6.4.4->jupyter-server<3,>=2.0.1->jupyterlab-spellchecker) (4.12.3)\n",
      "Requirement already satisfied: bleach!=5.0.0 in /usr/local/lib/python3.10/site-packages (from nbconvert>=6.4.4->jupyter-server<3,>=2.0.1->jupyterlab-spellchecker) (6.1.0)\n",
      "Requirement already satisfied: defusedxml in /usr/local/lib/python3.10/site-packages (from nbconvert>=6.4.4->jupyter-server<3,>=2.0.1->jupyterlab-spellchecker) (0.7.1)\n",
      "Requirement already satisfied: jupyterlab-pygments in /usr/local/lib/python3.10/site-packages (from nbconvert>=6.4.4->jupyter-server<3,>=2.0.1->jupyterlab-spellchecker) (0.3.0)\n",
      "Requirement already satisfied: mistune<4,>=2.0.3 in /usr/local/lib/python3.10/site-packages (from nbconvert>=6.4.4->jupyter-server<3,>=2.0.1->jupyterlab-spellchecker) (3.0.2)\n",
      "Requirement already satisfied: nbclient>=0.5.0 in /usr/local/lib/python3.10/site-packages (from nbconvert>=6.4.4->jupyter-server<3,>=2.0.1->jupyterlab-spellchecker) (0.10.0)\n",
      "Requirement already satisfied: pandocfilters>=1.4.1 in /usr/local/lib/python3.10/site-packages (from nbconvert>=6.4.4->jupyter-server<3,>=2.0.1->jupyterlab-spellchecker) (1.5.1)\n",
      "Requirement already satisfied: pygments>=2.4.1 in /usr/local/lib/python3.10/site-packages (from nbconvert>=6.4.4->jupyter-server<3,>=2.0.1->jupyterlab-spellchecker) (2.18.0)\n",
      "Requirement already satisfied: tinycss2 in /usr/local/lib/python3.10/site-packages (from nbconvert>=6.4.4->jupyter-server<3,>=2.0.1->jupyterlab-spellchecker) (1.3.0)\n",
      "Requirement already satisfied: fastjsonschema>=2.15 in /usr/local/lib/python3.10/site-packages (from nbformat>=5.3.0->jupyter-server<3,>=2.0.1->jupyterlab-spellchecker) (2.19.1)\n",
      "Requirement already satisfied: ptyprocess in /usr/local/lib/python3.10/site-packages (from terminado>=0.8.3->jupyter-server<3,>=2.0.1->jupyterlab-spellchecker) (0.7.0)\n",
      "Requirement already satisfied: six>=1.9.0 in /usr/local/lib/python3.10/site-packages (from bleach!=5.0.0->nbconvert>=6.4.4->jupyter-server<3,>=2.0.1->jupyterlab-spellchecker) (1.16.0)\n",
      "Requirement already satisfied: webencodings in /usr/local/lib/python3.10/site-packages (from bleach!=5.0.0->nbconvert>=6.4.4->jupyter-server<3,>=2.0.1->jupyterlab-spellchecker) (0.5.1)\n",
      "Requirement already satisfied: decorator in /usr/local/lib/python3.10/site-packages (from ipython>=7.23.1->ipykernel>=6.5.0->jupyterlab<5,>=4->jupyterlab-spellchecker) (5.1.1)\n",
      "Requirement already satisfied: jedi>=0.16 in /usr/local/lib/python3.10/site-packages (from ipython>=7.23.1->ipykernel>=6.5.0->jupyterlab<5,>=4->jupyterlab-spellchecker) (0.19.1)\n",
      "Requirement already satisfied: prompt-toolkit<3.1.0,>=3.0.41 in /usr/local/lib/python3.10/site-packages (from ipython>=7.23.1->ipykernel>=6.5.0->jupyterlab<5,>=4->jupyterlab-spellchecker) (3.0.43)\n",
      "Requirement already satisfied: stack-data in /usr/local/lib/python3.10/site-packages (from ipython>=7.23.1->ipykernel>=6.5.0->jupyterlab<5,>=4->jupyterlab-spellchecker) (0.6.3)\n",
      "Requirement already satisfied: pexpect>4.3 in /usr/local/lib/python3.10/site-packages (from ipython>=7.23.1->ipykernel>=6.5.0->jupyterlab<5,>=4->jupyterlab-spellchecker) (4.9.0)\n",
      "Requirement already satisfied: attrs>=22.2.0 in /usr/local/lib/python3.10/site-packages (from jsonschema>=4.18.0->jsonschema[format-nongpl]>=4.18.0->jupyter-events>=0.9.0->jupyter-server<3,>=2.0.1->jupyterlab-spellchecker) (23.2.0)\n",
      "Requirement already satisfied: jsonschema-specifications>=2023.03.6 in /usr/local/lib/python3.10/site-packages (from jsonschema>=4.18.0->jsonschema[format-nongpl]>=4.18.0->jupyter-events>=0.9.0->jupyter-server<3,>=2.0.1->jupyterlab-spellchecker) (2023.12.1)\n",
      "Requirement already satisfied: rpds-py>=0.7.1 in /usr/local/lib/python3.10/site-packages (from jsonschema>=4.18.0->jsonschema[format-nongpl]>=4.18.0->jupyter-events>=0.9.0->jupyter-server<3,>=2.0.1->jupyterlab-spellchecker) (0.18.1)\n",
      "Requirement already satisfied: fqdn in /usr/local/lib/python3.10/site-packages (from jsonschema[format-nongpl]>=4.18.0->jupyter-events>=0.9.0->jupyter-server<3,>=2.0.1->jupyterlab-spellchecker) (1.5.1)\n",
      "Requirement already satisfied: isoduration in /usr/local/lib/python3.10/site-packages (from jsonschema[format-nongpl]>=4.18.0->jupyter-events>=0.9.0->jupyter-server<3,>=2.0.1->jupyterlab-spellchecker) (20.11.0)\n",
      "Requirement already satisfied: jsonpointer>1.13 in /usr/local/lib/python3.10/site-packages (from jsonschema[format-nongpl]>=4.18.0->jupyter-events>=0.9.0->jupyter-server<3,>=2.0.1->jupyterlab-spellchecker) (2.4)\n",
      "Requirement already satisfied: uri-template in /usr/local/lib/python3.10/site-packages (from jsonschema[format-nongpl]>=4.18.0->jupyter-events>=0.9.0->jupyter-server<3,>=2.0.1->jupyterlab-spellchecker) (1.3.0)\n",
      "Requirement already satisfied: webcolors>=1.11 in /usr/local/lib/python3.10/site-packages (from jsonschema[format-nongpl]>=4.18.0->jupyter-events>=0.9.0->jupyter-server<3,>=2.0.1->jupyterlab-spellchecker) (1.13)\n",
      "Requirement already satisfied: charset-normalizer<4,>=2 in /usr/local/lib/python3.10/site-packages (from requests>=2.31->jupyterlab-server<3,>=2.27.1->jupyterlab<5,>=4->jupyterlab-spellchecker) (3.3.2)\n",
      "Requirement already satisfied: urllib3<3,>=1.21.1 in /usr/local/lib/python3.10/site-packages (from requests>=2.31->jupyterlab-server<3,>=2.27.1->jupyterlab<5,>=4->jupyterlab-spellchecker) (2.2.1)\n",
      "Requirement already satisfied: cffi>=1.0.1 in /usr/local/lib/python3.10/site-packages (from argon2-cffi-bindings->argon2-cffi>=21.1->jupyter-server<3,>=2.0.1->jupyterlab-spellchecker) (1.16.0)\n",
      "Requirement already satisfied: soupsieve>1.2 in /usr/local/lib/python3.10/site-packages (from beautifulsoup4->nbconvert>=6.4.4->jupyter-server<3,>=2.0.1->jupyterlab-spellchecker) (2.5)\n",
      "Requirement already satisfied: pycparser in /usr/local/lib/python3.10/site-packages (from cffi>=1.0.1->argon2-cffi-bindings->argon2-cffi>=21.1->jupyter-server<3,>=2.0.1->jupyterlab-spellchecker) (2.22)\n",
      "Requirement already satisfied: parso<0.9.0,>=0.8.3 in /usr/local/lib/python3.10/site-packages (from jedi>=0.16->ipython>=7.23.1->ipykernel>=6.5.0->jupyterlab<5,>=4->jupyterlab-spellchecker) (0.8.4)\n",
      "Requirement already satisfied: wcwidth in /usr/local/lib/python3.10/site-packages (from prompt-toolkit<3.1.0,>=3.0.41->ipython>=7.23.1->ipykernel>=6.5.0->jupyterlab<5,>=4->jupyterlab-spellchecker) (0.2.13)\n",
      "Requirement already satisfied: arrow>=0.15.0 in /usr/local/lib/python3.10/site-packages (from isoduration->jsonschema[format-nongpl]>=4.18.0->jupyter-events>=0.9.0->jupyter-server<3,>=2.0.1->jupyterlab-spellchecker) (1.3.0)\n",
      "Requirement already satisfied: executing>=1.2.0 in /usr/local/lib/python3.10/site-packages (from stack-data->ipython>=7.23.1->ipykernel>=6.5.0->jupyterlab<5,>=4->jupyterlab-spellchecker) (2.0.1)\n",
      "Requirement already satisfied: asttokens>=2.1.0 in /usr/local/lib/python3.10/site-packages (from stack-data->ipython>=7.23.1->ipykernel>=6.5.0->jupyterlab<5,>=4->jupyterlab-spellchecker) (2.4.1)\n",
      "Requirement already satisfied: pure-eval in /usr/local/lib/python3.10/site-packages (from stack-data->ipython>=7.23.1->ipykernel>=6.5.0->jupyterlab<5,>=4->jupyterlab-spellchecker) (0.2.2)\n",
      "Requirement already satisfied: types-python-dateutil>=2.8.10 in /usr/local/lib/python3.10/site-packages (from arrow>=0.15.0->isoduration->jsonschema[format-nongpl]>=4.18.0->jupyter-events>=0.9.0->jupyter-server<3,>=2.0.1->jupyterlab-spellchecker) (2.9.0.20240316)\n",
      "Downloading jupyterlab_spellchecker-0.8.4-py3-none-any.whl (5.3 MB)\n",
      "\u001b[2K   \u001b[38;2;114;156;31m━━━━━━━━━━━━━━━━━━━━━━━━━━━━━━━━━━━━━━━━\u001b[0m \u001b[32m5.3/5.3 MB\u001b[0m \u001b[31m61.9 MB/s\u001b[0m eta \u001b[36m0:00:00\u001b[0m\n",
      "\u001b[?25hInstalling collected packages: jupyterlab-spellchecker\n",
      "Successfully installed jupyterlab-spellchecker-0.8.4\n",
      "Note: you may need to restart the kernel to use updated packages.\n"
     ]
    }
   ],
   "source": [
    "pip install jupyterlab-spellchecker"
   ]
  },
  {
   "cell_type": "code",
   "execution_count": 3,
   "id": "ad9c3a09-f90c-4c0b-add1-619873be49e1",
   "metadata": {},
   "outputs": [
    {
     "name": "stdout",
     "output_type": "stream",
     "text": [
      "README.md      Untitled.ipynb main.py        pyproject.toml weather.py\n",
      "/Users/ywchen/project/weather\n"
     ]
    }
   ],
   "source": [
    "! ls\n",
    "! pwd"
   ]
  },
  {
   "cell_type": "markdown",
   "id": "c637041d-8157-4955-b0df-812a5d1af42e",
   "metadata": {},
   "source": [
    "## Use command + click multiple places to edit \n",
    "##### try it"
   ]
  },
  {
   "cell_type": "code",
   "execution_count": null,
   "id": "c11ec051-dd4e-431b-970d-5990dbac8ca8",
   "metadata": {},
   "outputs": [],
   "source": [
    "123567 \n",
    "123567 \n",
    "123567 "
   ]
  },
  {
   "cell_type": "code",
   "execution_count": 5,
   "id": "475f858b-d39a-46c4-ae58-c4d7f39713f7",
   "metadata": {},
   "outputs": [
    {
     "name": "stdout",
     "output_type": "stream",
     "text": [
      "Collecting tqdm\n",
      "  Downloading tqdm-4.67.1-py3-none-any.whl.metadata (57 kB)\n",
      "Downloading tqdm-4.67.1-py3-none-any.whl (78 kB)\n",
      "Installing collected packages: tqdm\n",
      "Successfully installed tqdm-4.67.1\n",
      "Note: you may need to restart the kernel to use updated packages.\n"
     ]
    }
   ],
   "source": [
    "pip install tqdm"
   ]
  },
  {
   "cell_type": "code",
   "execution_count": 4,
   "id": "a2f018a6-2f4d-4fe4-ac7d-30c71d32eaf4",
   "metadata": {},
   "outputs": [
    {
     "name": "stdout",
     "output_type": "stream",
     "text": [
      "Collecting ipywidgets\n",
      "  Downloading ipywidgets-8.1.5-py3-none-any.whl.metadata (2.3 kB)\n",
      "Requirement already satisfied: comm>=0.1.3 in /usr/local/lib/python3.10/site-packages (from ipywidgets) (0.2.2)\n",
      "Requirement already satisfied: ipython>=6.1.0 in /usr/local/lib/python3.10/site-packages (from ipywidgets) (8.24.0)\n",
      "Requirement already satisfied: traitlets>=4.3.1 in /usr/local/lib/python3.10/site-packages (from ipywidgets) (5.14.3)\n",
      "Collecting widgetsnbextension~=4.0.12 (from ipywidgets)\n",
      "  Downloading widgetsnbextension-4.0.13-py3-none-any.whl.metadata (1.6 kB)\n",
      "Collecting jupyterlab-widgets~=3.0.12 (from ipywidgets)\n",
      "  Downloading jupyterlab_widgets-3.0.13-py3-none-any.whl.metadata (4.1 kB)\n",
      "Requirement already satisfied: decorator in /usr/local/lib/python3.10/site-packages (from ipython>=6.1.0->ipywidgets) (5.1.1)\n",
      "Requirement already satisfied: jedi>=0.16 in /usr/local/lib/python3.10/site-packages (from ipython>=6.1.0->ipywidgets) (0.19.1)\n",
      "Requirement already satisfied: matplotlib-inline in /usr/local/lib/python3.10/site-packages (from ipython>=6.1.0->ipywidgets) (0.1.7)\n",
      "Requirement already satisfied: prompt-toolkit<3.1.0,>=3.0.41 in /usr/local/lib/python3.10/site-packages (from ipython>=6.1.0->ipywidgets) (3.0.43)\n",
      "Requirement already satisfied: pygments>=2.4.0 in /usr/local/lib/python3.10/site-packages (from ipython>=6.1.0->ipywidgets) (2.18.0)\n",
      "Requirement already satisfied: stack-data in /usr/local/lib/python3.10/site-packages (from ipython>=6.1.0->ipywidgets) (0.6.3)\n",
      "Requirement already satisfied: exceptiongroup in /usr/local/lib/python3.10/site-packages (from ipython>=6.1.0->ipywidgets) (1.2.0)\n",
      "Requirement already satisfied: typing-extensions>=4.6 in /usr/local/lib/python3.10/site-packages (from ipython>=6.1.0->ipywidgets) (4.12.2)\n",
      "Requirement already satisfied: pexpect>4.3 in /usr/local/lib/python3.10/site-packages (from ipython>=6.1.0->ipywidgets) (4.9.0)\n",
      "Requirement already satisfied: parso<0.9.0,>=0.8.3 in /usr/local/lib/python3.10/site-packages (from jedi>=0.16->ipython>=6.1.0->ipywidgets) (0.8.4)\n",
      "Requirement already satisfied: ptyprocess>=0.5 in /usr/local/lib/python3.10/site-packages (from pexpect>4.3->ipython>=6.1.0->ipywidgets) (0.7.0)\n",
      "Requirement already satisfied: wcwidth in /usr/local/lib/python3.10/site-packages (from prompt-toolkit<3.1.0,>=3.0.41->ipython>=6.1.0->ipywidgets) (0.2.13)\n",
      "Requirement already satisfied: executing>=1.2.0 in /usr/local/lib/python3.10/site-packages (from stack-data->ipython>=6.1.0->ipywidgets) (2.0.1)\n",
      "Requirement already satisfied: asttokens>=2.1.0 in /usr/local/lib/python3.10/site-packages (from stack-data->ipython>=6.1.0->ipywidgets) (2.4.1)\n",
      "Requirement already satisfied: pure-eval in /usr/local/lib/python3.10/site-packages (from stack-data->ipython>=6.1.0->ipywidgets) (0.2.2)\n",
      "Requirement already satisfied: six>=1.12.0 in /usr/local/lib/python3.10/site-packages (from asttokens>=2.1.0->stack-data->ipython>=6.1.0->ipywidgets) (1.16.0)\n",
      "Downloading ipywidgets-8.1.5-py3-none-any.whl (139 kB)\n",
      "Downloading jupyterlab_widgets-3.0.13-py3-none-any.whl (214 kB)\n",
      "Downloading widgetsnbextension-4.0.13-py3-none-any.whl (2.3 MB)\n",
      "\u001b[2K   \u001b[38;2;114;156;31m━━━━━━━━━━━━━━━━━━━━━━━━━━━━━━━━━━━━━━━━\u001b[0m \u001b[32m2.3/2.3 MB\u001b[0m \u001b[31m32.1 MB/s\u001b[0m eta \u001b[36m0:00:00\u001b[0m\n",
      "\u001b[?25hInstalling collected packages: widgetsnbextension, jupyterlab-widgets, ipywidgets\n",
      "Successfully installed ipywidgets-8.1.5 jupyterlab-widgets-3.0.13 widgetsnbextension-4.0.13\n",
      "Note: you may need to restart the kernel to use updated packages.\n"
     ]
    }
   ],
   "source": [
    "pip install ipywidgets"
   ]
  },
  {
   "cell_type": "code",
   "execution_count": 2,
   "id": "18c94b06-0a60-4d5c-8d7c-5f05c8e5b8ca",
   "metadata": {
    "editable": true,
    "slideshow": {
     "slide_type": ""
    },
    "tags": [
     "active_ipynb   "
    ]
   },
   "outputs": [],
   "source": [
    "# has active_ipynb\n",
    "from tqdm.notebook import tqdm"
   ]
  },
  {
   "cell_type": "code",
   "execution_count": 2,
   "id": "55976c46-fd19-43be-aac1-70e66a1eafed",
   "metadata": {
    "editable": true,
    "slideshow": {
     "slide_type": ""
    },
    "tags": [
     "active_py"
    ]
   },
   "outputs": [],
   "source": [
    "# has active_py tag\n",
    "from tqdm import tqdm"
   ]
  },
  {
   "cell_type": "code",
   "execution_count": 6,
   "id": "14783c97-6edd-4c50-a94f-50cad5070560",
   "metadata": {
    "editable": true,
    "slideshow": {
     "slide_type": ""
    },
    "tags": []
   },
   "outputs": [
    {
     "data": {
      "application/vnd.jupyter.widget-view+json": {
       "model_id": "7c66775829aa4089b2721f02d773aedb",
       "version_major": 2,
       "version_minor": 0
      },
      "text/plain": [
       "  0%|          | 0/10 [00:00<?, ?it/s]"
      ]
     },
     "metadata": {},
     "output_type": "display_data"
    }
   ],
   "source": [
    "import time \n",
    "for i in tqdm(range(10)):\n",
    "    time.sleep(.5)"
   ]
  },
  {
   "cell_type": "code",
   "execution_count": 5,
   "id": "42e92178-fc2e-4638-971c-f0c57aa4c945",
   "metadata": {
    "editable": true,
    "slideshow": {
     "slide_type": ""
    },
    "tags": []
   },
   "outputs": [
    {
     "data": {
      "application/vnd.jupyter.widget-view+json": {
       "model_id": "10cb5c6542dd476295f1a601a90efbd0",
       "version_major": 2,
       "version_minor": 0
      },
      "text/plain": [
       "  0%|          | 0/10 [00:00<?, ?it/s]"
      ]
     },
     "metadata": {},
     "output_type": "display_data"
    },
    {
     "name": "stdout",
     "output_type": "stream",
     "text": [
      "CPU times: user 54.1 ms, sys: 11.6 ms, total: 65.7 ms\n",
      "Wall time: 5.08 s\n"
     ]
    }
   ],
   "source": [
    "## show all execution time\n",
    "%%time\n",
    "for i in tqdm(range(10)):\n",
    "    time.sleep(.5)\n"
   ]
  },
  {
   "cell_type": "code",
   "execution_count": 8,
   "id": "3c2bc951-c07e-4210-8bc2-58269b724dda",
   "metadata": {
    "editable": true,
    "slideshow": {
     "slide_type": ""
    },
    "tags": []
   },
   "outputs": [
    {
     "name": "stdout",
     "output_type": "stream",
     "text": [
      "1.94 ms ± 21 µs per loop (mean ± std. dev. of 7 runs, 100 loops each)\n"
     ]
    }
   ],
   "source": [
    "%%timeit\n",
    "sum(x ** 2 for x in range(1, 100000, 10))"
   ]
  },
  {
   "cell_type": "code",
   "execution_count": 9,
   "id": "3a6842ba-ff86-4b2f-9903-4d53935a471f",
   "metadata": {
    "editable": true,
    "slideshow": {
     "slide_type": ""
    },
    "tags": []
   },
   "outputs": [],
   "source": [
    "#print all output\n",
    "#default is to print the last line\n",
    "from IPython.core.interactiveshell import InteractiveShell\n",
    "InteractiveShell.ast_node_interactivity = \"all\""
   ]
  },
  {
   "cell_type": "code",
   "execution_count": 10,
   "id": "43a4569c-2de3-4dd3-9769-f405e07dac06",
   "metadata": {
    "editable": true,
    "slideshow": {
     "slide_type": ""
    },
    "tags": []
   },
   "outputs": [
    {
     "data": {
      "text/plain": [
       "45"
      ]
     },
     "execution_count": 10,
     "metadata": {},
     "output_type": "execute_result"
    },
    {
     "name": "stdout",
     "output_type": "stream",
     "text": [
      "45\n"
     ]
    },
    {
     "data": {
      "text/plain": [
       "45"
      ]
     },
     "execution_count": 10,
     "metadata": {},
     "output_type": "execute_result"
    }
   ],
   "source": [
    "sum(range(10))\n",
    "print(sum(range(10)))\n",
    "sum(range(10))"
   ]
  },
  {
   "cell_type": "code",
   "execution_count": null,
   "id": "3fcd3118-0542-4a8e-8eaf-33248be924a8",
   "metadata": {
    "editable": true,
    "slideshow": {
     "slide_type": ""
    },
    "tags": []
   },
   "outputs": [],
   "source": []
  }
 ],
 "metadata": {
  "jupytext": {
   "formats": "ipynb,auto:light"
  },
  "kernelspec": {
   "display_name": "Python 3 (ipykernel)",
   "language": "python",
   "name": "python3"
  },
  "language_info": {
   "codemirror_mode": {
    "name": "ipython",
    "version": 3
   },
   "file_extension": ".py",
   "mimetype": "text/x-python",
   "name": "python",
   "nbconvert_exporter": "python",
   "pygments_lexer": "ipython3",
   "version": "3.10.16"
  }
 },
 "nbformat": 4,
 "nbformat_minor": 5
}
